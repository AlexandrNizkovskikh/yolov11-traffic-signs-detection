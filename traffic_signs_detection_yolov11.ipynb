{
  "cells": [
    {
      "cell_type": "code",
      "execution_count": null,
      "metadata": {
        "collapsed": true,
        "id": "fQG6Wp0eVaos"
      },
      "outputs": [],
      "source": [
        "!pip install ultralytics"
      ]
    },
    {
      "cell_type": "code",
      "execution_count": null,
      "metadata": {
        "id": "nmBko-M3VccI"
      },
      "outputs": [],
      "source": [
        "import ultralytics\n",
        "\n",
        "from ultralytics import YOLO\n",
        "import os\n",
        "from PIL import Image\n",
        "import cv2\n",
        "from IPython.display import Video\n",
        "import glob\n",
        "import matplotlib.pyplot as plt\n",
        "\n",
        "import warnings\n",
        "warnings.filterwarnings('ignore')\n",
        "\n",
        "\n",
        "ultralytics.checks()"
      ]
    },
    {
      "cell_type": "markdown",
      "metadata": {
        "id": "X3olDi4kVeer"
      },
      "source": [
        "# Dataset"
      ]
    },
    {
      "cell_type": "code",
      "execution_count": null,
      "metadata": {
        "id": "d4NG6_LBVfl4"
      },
      "outputs": [],
      "source": [
        "!wget https://storage.yandexcloud.net/academy.ai/CV/traffic_signs_detection.zip"
      ]
    },
    {
      "cell_type": "code",
      "execution_count": null,
      "metadata": {
        "id": "zhXPbd7OVhYk"
      },
      "outputs": [],
      "source": [
        "!unzip -qo \"traffic_signs_detection.zip\" -d dataset"
      ]
    },
    {
      "cell_type": "code",
      "execution_count": null,
      "metadata": {
        "id": "PtTy9X5OVivv"
      },
      "outputs": [],
      "source": [
        "import os\n",
        "yaml_path = os.path.abspath('./dataset/car/data.yaml')"
      ]
    },
    {
      "cell_type": "markdown",
      "metadata": {
        "id": "cTE7HWzTVnFO"
      },
      "source": [
        "# Fine-tuning"
      ]
    },
    {
      "cell_type": "code",
      "execution_count": null,
      "metadata": {
        "id": "PVM-jAH-VoUn"
      },
      "outputs": [],
      "source": [
        "model = YOLO('yolo11s.pt')"
      ]
    },
    {
      "cell_type": "code",
      "execution_count": null,
      "metadata": {
        "id": "k8vehVtXVtZu"
      },
      "outputs": [],
      "source": [
        "results = model.train(\n",
        "    data=yaml_path,   # путь к конфигурационному файлу\n",
        "    epochs=15,        # число эпох\n",
        "    batch=32,         # размер пакета\n",
        "    imgsz=640,        # размер входного изображения\n",
        "    plots= True       # сохранять графики\n",
        ")"
      ]
    },
    {
      "cell_type": "code",
      "execution_count": null,
      "metadata": {
        "id": "9Weec2XhVv3C"
      },
      "outputs": [],
      "source": [
        "def result_train(path):\n",
        "    img = cv2.imread(path)\n",
        "    plt.figure(figsize=(10,10), dpi= 200)\n",
        "    plt.imshow(img)"
      ]
    },
    {
      "cell_type": "code",
      "execution_count": null,
      "metadata": {
        "colab": {
          "background_save": true
        },
        "id": "kKXNiescVxHy"
      },
      "outputs": [],
      "source": [
        "data_dir = \"./runs/detect/train\"\n",
        "img_dir = os.path.join(data_dir, 'train_batch*.jpg')\n",
        "files = glob.glob(img_dir)\n",
        "imgs = []\n",
        "for image in files:\n",
        "    result_train(image)"
      ]
    },
    {
      "cell_type": "code",
      "execution_count": null,
      "metadata": {
        "id": "khGWNApNVy8y"
      },
      "outputs": [],
      "source": [
        "img_dir = os.path.join(data_dir, 'confusion_matrix_normalized.png')\n",
        "\n",
        "result_train(img_dir)"
      ]
    },
    {
      "cell_type": "code",
      "execution_count": null,
      "metadata": {
        "id": "2f2LY1LOV0XS"
      },
      "outputs": [],
      "source": [
        "data_dir = \"./runs/detect/train\"\n",
        "img_dir = os.path.join(data_dir, '*curve*.png')\n",
        "files = glob.glob(img_dir)\n",
        "imgs = []\n",
        "for image in files:\n",
        "    result_train(image)"
      ]
    },
    {
      "cell_type": "code",
      "execution_count": null,
      "metadata": {
        "id": "zNBf1JEGV2hd"
      },
      "outputs": [],
      "source": [
        "%load_ext tensorboard\n",
        "%tensorboard --logdir='./runs/detect/train'"
      ]
    },
    {
      "cell_type": "markdown",
      "metadata": {
        "id": "j4V_weA3aRNj"
      },
      "source": [
        "# Inference"
      ]
    },
    {
      "cell_type": "code",
      "execution_count": null,
      "metadata": {
        "id": "MPjGz3HYV3uJ"
      },
      "outputs": [],
      "source": [
        "import random\n",
        "test_dir = os.path.abspath('./dataset/car/test/images')\n",
        "\n",
        "img_dir = os.path.join(test_dir, '*.jpg')\n",
        "files = glob.glob(img_dir)"
      ]
    },
    {
      "cell_type": "code",
      "execution_count": null,
      "metadata": {
        "id": "8oFSQ97QV43t"
      },
      "outputs": [],
      "source": [
        "image_test_path = random.choice(files)\n",
        "\n",
        "pred = model.predict(source=image_test_path,\n",
        "                        imgsz=640)\n",
        "\n",
        "test_image = pred[0].plot(line_width=2)\n",
        "plt.imshow(test_image)"
      ]
    },
    {
      "cell_type": "code",
      "execution_count": null,
      "metadata": {
        "id": "2WOizcddV6hz",
        "collapsed": true
      },
      "outputs": [],
      "source": [
        "example_video_path = './dataset/video.mp4'\n",
        "\n",
        "video_output = model.predict(source=example_video_path, conf=0.6, save=True)"
      ]
    },
    {
      "cell_type": "code",
      "execution_count": null,
      "metadata": {
        "id": "eu1rwin6V8Ax"
      },
      "outputs": [],
      "source": [
        "from moviepy.editor import *\n",
        "\n",
        "path=\"./runs/detect/train2/video.avi\"\n",
        "\n",
        "clip=VideoFileClip(path)\n",
        "clip.ipython_display(width=960)"
      ]
    }
  ],
  "metadata": {
    "accelerator": "GPU",
    "colab": {
      "gpuType": "T4",
      "provenance": []
    },
    "kernelspec": {
      "display_name": "Python 3",
      "name": "python3"
    },
    "language_info": {
      "name": "python"
    }
  },
  "nbformat": 4,
  "nbformat_minor": 0
}